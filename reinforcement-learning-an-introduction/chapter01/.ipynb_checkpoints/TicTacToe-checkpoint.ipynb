{
 "cells": [
  {
   "cell_type": "code",
   "execution_count": 1,
   "metadata": {
    "collapsed": true
   },
   "outputs": [],
   "source": [
    "from __future__ import print_function\n",
    "import numpy as np\n",
    "import pickle"
   ]
  },
  {
   "cell_type": "code",
   "execution_count": 2,
   "metadata": {
    "collapsed": true
   },
   "outputs": [],
   "source": [
    "BOARD_ROWS = 3\n",
    "BOARD_COLS = 3\n",
    "BOARD_SIZE = BOARD_ROWS * BOARD_COLS"
   ]
  },
  {
   "cell_type": "code",
   "execution_count": null,
   "metadata": {
    "collapsed": true
   },
   "outputs": [],
   "source": [
    "class State:\n",
    "    def __init__(self):\n",
    "        # the board is represented by a N * N array\n",
    "        # 1 represents chessman of the player who moves first,\n",
    "        # -1 represents chessman of another player\n",
    "        # 0 represents empty position\n",
    "        self.data = np.zeros((BOARD_ROWS, BOARD_COLS))\n",
    "        self.winner = None\n",
    "        self.hashVal = None\n",
    "        self.end = None\n",
    "        \n",
    "    def getHash(self):\n",
    "        if self.hashVal is None:\n",
    "            self.hashVal = 0\n",
    "            for i in self.data.reshape(BOARD_ROWS * BOARD_COLS):\n",
    "                if i == -1:\n",
    "                    i = 2\n",
    "                self.hashVal = self.hashVal * 3 + i\n",
    "        return int(self.hashVal)\n",
    "    \n",
    "    # determine whether a player has won the game, or it's tie\n",
    "    def isEnd(self):\n",
    "        if self.end is not None:\n",
    "            return self.end\n",
    "        results = []\n",
    "        \n",
    "        # check row\n",
    "        for i in range(0, BOARD_ROWS):\n",
    "            results.append(np.sum(self.data[i, :]))\n",
    "        # check columns\n",
    "        for i in range(0, BOARD_COLS):\n",
    "            results.append(np.sum(self.data[:, i]))\n",
    "            \n",
    "        # check diagonals\n",
    "        results.append(0)\n",
    "        for i in range(0, BOARD_ROWS):\n",
    "            results[-1] += self.data[i, i]\n",
    "        results.append(0)\n",
    "        for i in range(0, BOARD_COLS):\n",
    "            results[-1] += self.data[i, BOARD_ROWS - 1 -i]\n",
    "            \n",
    "        for result in results:\n",
    "            if result == 3:\n",
    "                self.winner = 1\n",
    "                self.end = True\n",
    "                return self.end\n",
    "            if result == -3:\n",
    "                self.winner = -1\n",
    "                self.end = True\n",
    "                return self.end\n",
    "            \n",
    "        # whether it's a tie\n",
    "        sum = np.sum(np.abs(self.data))\n",
    "        if sum == BOARD_ROWS * BOARD_COLS:\n",
    "            self.winner = 0\n",
    "            self.end = True\n",
    "            return self.end\n",
    "        \n",
    "        # game is still going on\n",
    "        self.end = False\n",
    "        return self.end\n",
    "    "
   ]
  }
 ],
 "metadata": {
  "kernelspec": {
   "display_name": "Python 3",
   "language": "python",
   "name": "python3"
  },
  "language_info": {
   "codemirror_mode": {
    "name": "ipython",
    "version": 3
   },
   "file_extension": ".py",
   "mimetype": "text/x-python",
   "name": "python",
   "nbconvert_exporter": "python",
   "pygments_lexer": "ipython3",
   "version": "3.5.2"
  }
 },
 "nbformat": 4,
 "nbformat_minor": 2
}
