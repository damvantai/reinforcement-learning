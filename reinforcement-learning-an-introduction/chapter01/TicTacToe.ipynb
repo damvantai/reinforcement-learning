{
 "cells": [
  {
   "cell_type": "code",
   "execution_count": 1,
   "metadata": {
    "collapsed": true
   },
   "outputs": [],
   "source": [
    "from __future__ import print_function\n",
    "import numpy as np\n",
    "import pickle"
   ]
  },
  {
   "cell_type": "code",
   "execution_count": 2,
   "metadata": {
    "collapsed": true
   },
   "outputs": [],
   "source": [
    "BOARD_ROWS = 3\n",
    "BOARD_COLS = 3\n",
    "BOARD_SIZE = BOARD_ROWS * BOARD_COLS"
   ]
  },
  {
   "cell_type": "code",
   "execution_count": 3,
   "metadata": {
    "collapsed": true
   },
   "outputs": [],
   "source": [
    "class State:\n",
    "    def __init__(self):\n",
    "        # the board is represented by a N * N array\n",
    "        # 1 represents chessman of the player who moves first,\n",
    "        # -1 represents chessman of another player\n",
    "        # 0 represents empty position\n",
    "        self.data = np.zeros((BOARD_ROWS, BOARD_COLS))\n",
    "        self.winner = None\n",
    "        self.hashVal = None\n",
    "        self.end = None\n",
    "        \n",
    "    def getHash(self):\n",
    "        if self.hashVal is None:\n",
    "            self.hashVal = 0\n",
    "            for i in self.data.reshape(BOARD_ROWS * BOARD_COLS):\n",
    "                if i == -1:\n",
    "                    i = 2\n",
    "                self.hashVal = self.hashVal * 3 + i\n",
    "        return int(self.hashVal)\n",
    "    \n",
    "    # determine whether a player has won the game, or it's tie\n",
    "    def isEnd(self):\n",
    "        if self.end is not None:\n",
    "            return self.end\n",
    "        results = []\n",
    "        \n",
    "        # check row\n",
    "        for i in range(0, BOARD_ROWS):\n",
    "            results.append(np.sum(self.data[i, :]))\n",
    "        # check columns\n",
    "        for i in range(0, BOARD_COLS):\n",
    "            results.append(np.sum(self.data[:, i]))\n",
    "            \n",
    "        # check diagonals\n",
    "        results.append(0)\n",
    "        for i in range(0, BOARD_ROWS):\n",
    "            results[-1] += self.data[i, i]\n",
    "        results.append(0)\n",
    "        for i in range(0, BOARD_COLS):\n",
    "            results[-1] += self.data[i, BOARD_ROWS - 1 -i]\n",
    "            \n",
    "        for result in results:\n",
    "            if result == 3:\n",
    "                self.winner = 1\n",
    "                self.end = True\n",
    "                return self.end\n",
    "            if result == -3:\n",
    "                self.winner = -1\n",
    "                self.end = True\n",
    "                return self.end\n",
    "            \n",
    "        # whether it's a tie\n",
    "        sum = np.sum(np.abs(self.data))\n",
    "        if sum == BOARD_ROWS * BOARD_COLS:\n",
    "            self.winner = 0\n",
    "            self.end = True\n",
    "            return self.end\n",
    "        \n",
    "        # game is still going on\n",
    "        self.end = False\n",
    "        return self.end\n",
    "    \n",
    "    # @symbol 1 or -1\n",
    "    # put chessman symbol in position (i, j)\n",
    "    def nextState(self, i, j, symbol):\n",
    "        newState = State()\n",
    "        newState.data = np.copy(self.data)\n",
    "        newState.data[i, j] = symbol\n",
    "        return newState\n",
    "    \n",
    "    # print the board\n",
    "    def show(self):\n",
    "        for i in range(0, BOARD_ROWS):\n",
    "            print('----------------')\n",
    "            out = '| '\n",
    "            for j in range(0, BOARD_COLS):\n",
    "                if self.data[i, j] == 1:\n",
    "                    token = '*'\n",
    "                if self.data[i, j] == 0:\n",
    "                    token = '0'\n",
    "                if self.data[i, j] == -1:\n",
    "                    token = 'x'\n",
    "                out += token + ' | '\n",
    "            print(out)\n",
    "        print('----------------')\n",
    "    "
   ]
  },
  {
   "cell_type": "code",
   "execution_count": 4,
   "metadata": {
    "collapsed": true
   },
   "outputs": [],
   "source": [
    "def getAllStatesImpl(currentState, currentSymbol, allStates):\n",
    "    for i in range(0, BOARD_ROWS):\n",
    "        for j in range(0, BOARD_COLS):\n",
    "            if currentState.data[i][j] == 0:\n",
    "                newState = currentState.nextState(i, j, currentSymbol)\n",
    "                newHash = newState.getHash()\n",
    "                if newHash not in allStates.keys():\n",
    "                    isEnd = newState.isEnd()\n",
    "                    allStates[newHash] = (newState, isEnd)\n",
    "                    if not isEnd:\n",
    "                        getAllStatesImpl(newState, -currentSymbol, allStates)"
   ]
  },
  {
   "cell_type": "code",
   "execution_count": 5,
   "metadata": {
    "collapsed": true
   },
   "outputs": [],
   "source": [
    "def getAllStates():\n",
    "    currentSymbol = 1\n",
    "    currentState = State()\n",
    "    allStates = dict()\n",
    "    allStates[currentState.getHash()] = (currentState, currentState.isEnd())\n",
    "    getAllStatesImpl(currentState, currentSymbol, allStates)\n",
    "    return allStates"
   ]
  },
  {
   "cell_type": "code",
   "execution_count": 6,
   "metadata": {
    "collapsed": true
   },
   "outputs": [],
   "source": [
    "allStates = getAllStates()"
   ]
  },
  {
   "cell_type": "code",
   "execution_count": 7,
   "metadata": {
    "collapsed": true
   },
   "outputs": [],
   "source": [
    "class Judger:\n",
    "    # @player1: player who will move first, its chessman will be 1\n",
    "    # @player2: another player with chessman -1\n",
    "    # @feedback: if True, both players will receive rewards when game is red\n",
    "    def __init__(self, player1, player2, feedback=True):\n",
    "        self.p1 = player1\n",
    "        self.p2 = player2\n",
    "        self.feedback = feedback\n",
    "        self.currentPlayer = None\n",
    "        self.p1Symbol = 1\n",
    "        self.p2Symbol = -1\n",
    "        self.p1.setSymbol(self.p1Symbol)\n",
    "        self.p2.setSymbol(self.p2Symbol)\n",
    "        self.currentState = State()\n",
    "        self.allStates = allStates\n",
    "        \n",
    "    # giver reward to two players\n",
    "    def giveReward(self):\n",
    "        if self.currentState.winner == self.p1Symbol:\n",
    "            self.p1.feedReward(1)\n",
    "            self.p2.feedReward(0)\n",
    "        elif self.currentState.winner == self.p2Symbol:\n",
    "            self.p1.feedReward(0)\n",
    "            self.p2.feedReward(1)\n",
    "        else:\n",
    "            self.p1.feedReward(0.1)\n",
    "            self.p2.feedReward(0.5)\n",
    "            \n",
    "    def feedCurrentState(self):\n",
    "        self.p1.feedState(self.currentState)\n",
    "        self.p2.feedState(self.currentState)\n",
    "    \n",
    "    def reset(self):\n",
    "        self.p1.reset()\n",
    "        self.p2.reset()\n",
    "        self.currentState = State()\n",
    "        self.currentPlayer = None\n",
    "    \n",
    "    # @show: if True, print each board during the game\n",
    "    def play(self, show=False):\n",
    "        self.reset()\n",
    "        self.feedCurrentState()\n",
    "        while True:\n",
    "            # set current player\n",
    "            if self.currentPlayer == self.p1:\n",
    "                self.currentPlayer = self.p2\n",
    "            else:\n",
    "                self.currentPlayer = self.p1\n",
    "            if show:\n",
    "                self.currentState.show()\n",
    "            [i, j, symbol] = self.currentPlayer.takeAction()\n",
    "            self.currentState = self.currentState.nextState(i, j, symbol)\n",
    "            hashValue = self.currentState.getHash()\n",
    "            self.currentState, isEnd = self.allStates[hashValue]\n",
    "            self.feedCurrentState()\n",
    "            if isEnd:\n",
    "                if self.feedback:\n",
    "                    self.giveReward()\n",
    "                return self.currentState.winner\n",
    "                "
   ]
  },
  {
   "cell_type": "code",
   "execution_count": null,
   "metadata": {
    "collapsed": true
   },
   "outputs": [],
   "source": [
    "# AI player\n",
    "class Player:\n",
    "    # @stepSize: step size to update estimations\n",
    "    # @exploreRate: possibility to explore\n",
    "    def __init__(self, stepSize = 0.1, exploreRate=0.1):\n",
    "        self.allStates = allStates\n",
    "        "
   ]
  },
  {
   "cell_type": "code",
   "execution_count": null,
   "metadata": {
    "collapsed": true
   },
   "outputs": [],
   "source": []
  },
  {
   "cell_type": "code",
   "execution_count": null,
   "metadata": {
    "collapsed": true
   },
   "outputs": [],
   "source": []
  },
  {
   "cell_type": "code",
   "execution_count": null,
   "metadata": {
    "collapsed": true
   },
   "outputs": [],
   "source": []
  },
  {
   "cell_type": "code",
   "execution_count": null,
   "metadata": {
    "collapsed": true
   },
   "outputs": [],
   "source": []
  },
  {
   "cell_type": "code",
   "execution_count": null,
   "metadata": {
    "collapsed": true
   },
   "outputs": [],
   "source": []
  },
  {
   "cell_type": "code",
   "execution_count": null,
   "metadata": {
    "collapsed": true
   },
   "outputs": [],
   "source": []
  },
  {
   "cell_type": "code",
   "execution_count": null,
   "metadata": {
    "collapsed": true
   },
   "outputs": [],
   "source": []
  },
  {
   "cell_type": "code",
   "execution_count": null,
   "metadata": {
    "collapsed": true
   },
   "outputs": [],
   "source": []
  },
  {
   "cell_type": "code",
   "execution_count": null,
   "metadata": {
    "collapsed": true
   },
   "outputs": [],
   "source": []
  },
  {
   "cell_type": "code",
   "execution_count": null,
   "metadata": {
    "collapsed": true
   },
   "outputs": [],
   "source": []
  },
  {
   "cell_type": "code",
   "execution_count": null,
   "metadata": {
    "collapsed": true
   },
   "outputs": [],
   "source": []
  },
  {
   "cell_type": "code",
   "execution_count": null,
   "metadata": {
    "collapsed": true
   },
   "outputs": [],
   "source": []
  },
  {
   "cell_type": "code",
   "execution_count": null,
   "metadata": {
    "collapsed": true
   },
   "outputs": [],
   "source": []
  },
  {
   "cell_type": "code",
   "execution_count": null,
   "metadata": {
    "collapsed": true
   },
   "outputs": [],
   "source": []
  }
 ],
 "metadata": {
  "kernelspec": {
   "display_name": "Python 3",
   "language": "python",
   "name": "python3"
  },
  "language_info": {
   "codemirror_mode": {
    "name": "ipython",
    "version": 3
   },
   "file_extension": ".py",
   "mimetype": "text/x-python",
   "name": "python",
   "nbconvert_exporter": "python",
   "pygments_lexer": "ipython3",
   "version": "3.5.2"
  }
 },
 "nbformat": 4,
 "nbformat_minor": 2
}
